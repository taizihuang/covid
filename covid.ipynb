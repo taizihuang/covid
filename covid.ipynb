{
 "cells": [
  {
   "cell_type": "code",
   "execution_count": 1,
   "metadata": {},
   "outputs": [
    {
     "ename": "AttributeError",
     "evalue": "module 'time' has no attribute 'tzset'",
     "output_type": "error",
     "traceback": [
      "\u001b[1;31m---------------------------------------------------------------------------\u001b[0m",
      "\u001b[1;31mAttributeError\u001b[0m                            Traceback (most recent call last)",
      "\u001b[1;32md:\\Documents\\Downloads\\wmy\\covid\\covid.ipynb Cell 1'\u001b[0m in \u001b[0;36m<cell line: 1>\u001b[1;34m()\u001b[0m\n\u001b[1;32m----> <a href='vscode-notebook-cell:/d%3A/Documents/Downloads/wmy/covid/covid.ipynb#ch0000000?line=0'>1</a>\u001b[0m \u001b[39mfrom\u001b[39;00m \u001b[39mcovid\u001b[39;00m \u001b[39mimport\u001b[39;00m \u001b[39m*\u001b[39m\n",
      "File \u001b[1;32md:\\Documents\\Downloads\\wmy\\covid\\covid.py:573\u001b[0m, in \u001b[0;36m<module>\u001b[1;34m\u001b[0m\n\u001b[0;32m    <a href='file:///d%3A/Documents/Downloads/wmy/covid/covid.py?line=569'>570</a>\u001b[0m             f\u001b[39m.\u001b[39mwrite(groupBuy\u001b[39m.\u001b[39mrender(groupBuy_li\u001b[39m=\u001b[39mgroupBuy_li,category\u001b[39m=\u001b[39mcategory,t_min\u001b[39m=\u001b[39mt_min,t_max\u001b[39m=\u001b[39mt_max,height\u001b[39m=\u001b[39m\u001b[39m70\u001b[39m\u001b[39m*\u001b[39m\u001b[39mlen\u001b[39m(category)))\n\u001b[0;32m    <a href='file:///d%3A/Documents/Downloads/wmy/covid/covid.py?line=571'>572</a>\u001b[0m os\u001b[39m.\u001b[39menviron[\u001b[39m'\u001b[39m\u001b[39mTZ\u001b[39m\u001b[39m'\u001b[39m] \u001b[39m=\u001b[39m \u001b[39m'\u001b[39m\u001b[39mAsia/Shanghai\u001b[39m\u001b[39m'\u001b[39m\n\u001b[1;32m--> <a href='file:///d%3A/Documents/Downloads/wmy/covid/covid.py?line=572'>573</a>\u001b[0m time\u001b[39m.\u001b[39;49mtzset()\n\u001b[0;32m    <a href='file:///d%3A/Documents/Downloads/wmy/covid/covid.py?line=573'>574</a>\u001b[0m df1 \u001b[39m=\u001b[39m fetchSheet1()\n\u001b[0;32m    <a href='file:///d%3A/Documents/Downloads/wmy/covid/covid.py?line=574'>575</a>\u001b[0m df2 \u001b[39m=\u001b[39m fetchSheet2()\n",
      "\u001b[1;31mAttributeError\u001b[0m: module 'time' has no attribute 'tzset'"
     ]
    }
   ],
   "source": [
    "from covid import *"
   ]
  },
  {
   "cell_type": "code",
   "execution_count": 4,
   "metadata": {},
   "outputs": [],
   "source": [
    "import requests,json,datetime,os,time\n",
    "import pandas as pd\n",
    "from mako.template import Template"
   ]
  },
  {
   "cell_type": "code",
   "execution_count": 9,
   "metadata": {},
   "outputs": [],
   "source": [
    "def fetchSheet2(tab='m7ohzm',start=0):\n",
    "    url = 'https://docs.qq.com/dop-api/get/sheet?padId=300000000%24LSEySnuVxEtM&subId={}&startrow={}&endrow={}&outformat=1&rev=1000'.format(tab,start,start+40)\n",
    "    headers = {\n",
    "        'Referer': 'https://docs.qq.com/sheet/DTFNFeVNudVZ4RXRN?tab=BB08J2',\n",
    "        'User-Agent': 'Mozilla/5.0 (iPhone; CPU iPhone OS 13_2_3 like Mac OS X) AppleWebKit/605.1.15 (KHTML, like Gecko) Version/13.0.3 Mobile/15E148 Safari/604.1'\n",
    "    }\n",
    "    l = requests.get(url,headers=headers).content\n",
    "    l = json.loads(l)\n",
    "    data = l['data']['initialAttributedText']['text'][0][-1][0]['c'][1]\n",
    "    col = 0\n",
    "    n = 0\n",
    "    while data[str(col)]['2'][1] != 'NA' and col < 20:\n",
    "        col = col + 1\n",
    "    data_list = []\n",
    "\n",
    "    row_i = [list(data.keys())[0]]\n",
    "    for i in data.keys():\n",
    "        if int(i)-int(row_i[-1])>col:\n",
    "            row_i.append(i)\n",
    "    for i in row_i[:-1]:\n",
    "        row_list = []\n",
    "        for j in range(col+1):\n",
    "            loc = str(int(i)+j)\n",
    "            s = '`'\n",
    "            if loc in data.keys():\n",
    "                if '2' in data[loc].keys():\n",
    "                    s = data[loc]['2'][1]\n",
    "            row_list.append(s)\n",
    "        data_list.append(row_list)\n",
    "    df = pd.DataFrame(columns=data_list[0],data=data_list[1:])\n",
    "    df = df.loc[(df['团长'] !='`') & (df['团长'] !='') & (~df['到货日期'].str.contains('无',na=False)) & (df['到货日期'] !='`')]\n",
    "    #df['团购日期'] = pd.to_datetime(df['团购日期']-365*70-18, unit='d')\n",
    "    #df['到货日期'] = pd.to_datetime(df['到货日期']-365*70-18, unit='d')\n",
    "    return df"
   ]
  },
  {
   "cell_type": "code",
   "execution_count": 10,
   "metadata": {},
   "outputs": [
    {
     "data": {
      "text/html": [
       "<div>\n",
       "<style scoped>\n",
       "    .dataframe tbody tr th:only-of-type {\n",
       "        vertical-align: middle;\n",
       "    }\n",
       "\n",
       "    .dataframe tbody tr th {\n",
       "        vertical-align: top;\n",
       "    }\n",
       "\n",
       "    .dataframe thead th {\n",
       "        text-align: right;\n",
       "    }\n",
       "</style>\n",
       "<table border=\"1\" class=\"dataframe\">\n",
       "  <thead>\n",
       "    <tr style=\"text-align: right;\">\n",
       "      <th></th>\n",
       "      <th>团长</th>\n",
       "      <th>团品</th>\n",
       "      <th>团购日期</th>\n",
       "      <th>到货日期</th>\n",
       "      <th>数量</th>\n",
       "      <th>是否需要分装</th>\n",
       "      <th>是否具备48小时核酸报告</th>\n",
       "      <th>是否具有食品合格证等</th>\n",
       "      <th>NA</th>\n",
       "    </tr>\n",
       "  </thead>\n",
       "  <tbody>\n",
       "    <tr>\n",
       "      <th>0</th>\n",
       "      <td>7-301</td>\n",
       "      <td>21cake</td>\n",
       "      <td>44666</td>\n",
       "      <td>44674</td>\n",
       "      <td>45</td>\n",
       "      <td>N</td>\n",
       "      <td>Y</td>\n",
       "      <td>Y</td>\n",
       "      <td>NA是标识不能删</td>\n",
       "    </tr>\n",
       "    <tr>\n",
       "      <th>1</th>\n",
       "      <td>7-301</td>\n",
       "      <td>百货</td>\n",
       "      <td>44665</td>\n",
       "      <td>44667</td>\n",
       "      <td>18</td>\n",
       "      <td>N</td>\n",
       "      <td>Y</td>\n",
       "      <td>Y</td>\n",
       "      <td>`</td>\n",
       "    </tr>\n",
       "    <tr>\n",
       "      <th>3</th>\n",
       "      <td>7-301</td>\n",
       "      <td>广莲申</td>\n",
       "      <td>44667</td>\n",
       "      <td>44671</td>\n",
       "      <td>80</td>\n",
       "      <td>N</td>\n",
       "      <td>Y</td>\n",
       "      <td>Y</td>\n",
       "      <td>`</td>\n",
       "    </tr>\n",
       "  </tbody>\n",
       "</table>\n",
       "</div>"
      ],
      "text/plain": [
       "      团长      团品   团购日期   到货日期  数量 是否需要分装 是否具备48小时核酸报告 是否具有食品合格证等        NA\n",
       "0  7-301  21cake  44666  44674  45      N            Y          Y  NA是标识不能删\n",
       "1  7-301      百货  44665  44667  18      N            Y          Y         `\n",
       "3  7-301     广莲申  44667  44671  80      N            Y          Y         `"
      ]
     },
     "execution_count": 10,
     "metadata": {},
     "output_type": "execute_result"
    }
   ],
   "source": [
    "fetchSheet2()"
   ]
  },
  {
   "cell_type": "code",
   "execution_count": 39,
   "metadata": {},
   "outputs": [],
   "source": [
    "df = df2[~df2[\"到货日期\"].str.contains('无',na=False)]\n",
    "color_list = ['#f1ccb8','#f1f1b8','#b8f1ed','#b8f1cc','#e7dac9']\n",
    "groupBuy_li = []\n",
    "category = []\n",
    "y = 0\n",
    "for i in df.index:\n",
    "    leader = df.loc[i,'团长']\n",
    "    color = color_list[y % len(color_list)]\n",
    "    x = 1\n",
    "    x2 = 1\n",
    "    #x = [df.loc[i,'团购日期'].month-1,df.loc[i,'团购日期'].day]\n",
    "    #x2 = [df.loc[i,'到货日期'].month-1,df.loc[i,'到货日期'].day]\n",
    "    t = datetime.datetime(2022,datetime.datetime.today().month,datetime.datetime.today().day)\n",
    "    if df.loc[i,'到货日期']>=44668:\n",
    "        #fill = round((t-df.loc[i,'团购日期']).days/(df.loc[i,'到货日期']-df.loc[i,'团购日期']).days,2)\n",
    "        fill = 1\n",
    "        groupBuy_li.append((x,x2,y,color,leader,fill))\n",
    "        category.append(df.loc[i,'团品'])\n",
    "        y = y + 1"
   ]
  },
  {
   "cell_type": "code",
   "execution_count": 40,
   "metadata": {},
   "outputs": [
    {
     "data": {
      "text/plain": [
       "['21cake', '广莲申']"
      ]
     },
     "execution_count": 40,
     "metadata": {},
     "output_type": "execute_result"
    }
   ],
   "source": [
    "category"
   ]
  },
  {
   "cell_type": "code",
   "execution_count": 17,
   "metadata": {},
   "outputs": [
    {
     "ename": "TypeError",
     "evalue": "bad operand type for unary ~: 'float'",
     "output_type": "error",
     "traceback": [
      "\u001b[1;31m---------------------------------------------------------------------------\u001b[0m",
      "\u001b[1;31mTypeError\u001b[0m                                 Traceback (most recent call last)",
      "\u001b[1;32md:\\Documents\\Downloads\\wmy\\covid\\covid.ipynb Cell 4'\u001b[0m in \u001b[0;36m<cell line: 1>\u001b[1;34m()\u001b[0m\n\u001b[1;32m----> <a href='vscode-notebook-cell:/d%3A/Documents/Downloads/wmy/covid/covid.ipynb#ch0000006?line=0'>1</a>\u001b[0m df2[\u001b[39m~\u001b[39mdf2[\u001b[39m\"\u001b[39m\u001b[39m到货日期\u001b[39m\u001b[39m\"\u001b[39m]\u001b[39m.\u001b[39mstr\u001b[39m.\u001b[39mcontains(\u001b[39m'\u001b[39m\u001b[39m无\u001b[39m\u001b[39m'\u001b[39m)]\n",
      "File \u001b[1;32m~\\AppData\\Local\\Programs\\Python\\Python39\\lib\\site-packages\\pandas\\core\\generic.py:1530\u001b[0m, in \u001b[0;36mNDFrame.__invert__\u001b[1;34m(self)\u001b[0m\n\u001b[0;32m   <a href='file:///c%3A/Users/Daniel/AppData/Local/Programs/Python/Python39/lib/site-packages/pandas/core/generic.py?line=1525'>1526</a>\u001b[0m \u001b[39mif\u001b[39;00m \u001b[39mnot\u001b[39;00m \u001b[39mself\u001b[39m\u001b[39m.\u001b[39msize:\n\u001b[0;32m   <a href='file:///c%3A/Users/Daniel/AppData/Local/Programs/Python/Python39/lib/site-packages/pandas/core/generic.py?line=1526'>1527</a>\u001b[0m     \u001b[39m# inv fails with 0 len\u001b[39;00m\n\u001b[0;32m   <a href='file:///c%3A/Users/Daniel/AppData/Local/Programs/Python/Python39/lib/site-packages/pandas/core/generic.py?line=1527'>1528</a>\u001b[0m     \u001b[39mreturn\u001b[39;00m \u001b[39mself\u001b[39m\n\u001b[1;32m-> <a href='file:///c%3A/Users/Daniel/AppData/Local/Programs/Python/Python39/lib/site-packages/pandas/core/generic.py?line=1529'>1530</a>\u001b[0m new_data \u001b[39m=\u001b[39m \u001b[39mself\u001b[39;49m\u001b[39m.\u001b[39;49m_mgr\u001b[39m.\u001b[39;49mapply(operator\u001b[39m.\u001b[39;49minvert)\n\u001b[0;32m   <a href='file:///c%3A/Users/Daniel/AppData/Local/Programs/Python/Python39/lib/site-packages/pandas/core/generic.py?line=1530'>1531</a>\u001b[0m \u001b[39mreturn\u001b[39;00m \u001b[39mself\u001b[39m\u001b[39m.\u001b[39m_constructor(new_data)\u001b[39m.\u001b[39m__finalize__(\u001b[39mself\u001b[39m, method\u001b[39m=\u001b[39m\u001b[39m\"\u001b[39m\u001b[39m__invert__\u001b[39m\u001b[39m\"\u001b[39m)\n",
      "File \u001b[1;32m~\\AppData\\Local\\Programs\\Python\\Python39\\lib\\site-packages\\pandas\\core\\internals\\managers.py:302\u001b[0m, in \u001b[0;36mBaseBlockManager.apply\u001b[1;34m(self, f, align_keys, ignore_failures, **kwargs)\u001b[0m\n\u001b[0;32m    <a href='file:///c%3A/Users/Daniel/AppData/Local/Programs/Python/Python39/lib/site-packages/pandas/core/internals/managers.py?line=299'>300</a>\u001b[0m \u001b[39mtry\u001b[39;00m:\n\u001b[0;32m    <a href='file:///c%3A/Users/Daniel/AppData/Local/Programs/Python/Python39/lib/site-packages/pandas/core/internals/managers.py?line=300'>301</a>\u001b[0m     \u001b[39mif\u001b[39;00m callable(f):\n\u001b[1;32m--> <a href='file:///c%3A/Users/Daniel/AppData/Local/Programs/Python/Python39/lib/site-packages/pandas/core/internals/managers.py?line=301'>302</a>\u001b[0m         applied \u001b[39m=\u001b[39m b\u001b[39m.\u001b[39mapply(f, \u001b[39m*\u001b[39m\u001b[39m*\u001b[39mkwargs)\n\u001b[0;32m    <a href='file:///c%3A/Users/Daniel/AppData/Local/Programs/Python/Python39/lib/site-packages/pandas/core/internals/managers.py?line=302'>303</a>\u001b[0m     \u001b[39melse\u001b[39;00m:\n\u001b[0;32m    <a href='file:///c%3A/Users/Daniel/AppData/Local/Programs/Python/Python39/lib/site-packages/pandas/core/internals/managers.py?line=303'>304</a>\u001b[0m         applied \u001b[39m=\u001b[39m \u001b[39mgetattr\u001b[39m(b, f)(\u001b[39m*\u001b[39m\u001b[39m*\u001b[39mkwargs)\n",
      "File \u001b[1;32m~\\AppData\\Local\\Programs\\Python\\Python39\\lib\\site-packages\\pandas\\core\\internals\\blocks.py:402\u001b[0m, in \u001b[0;36mBlock.apply\u001b[1;34m(self, func, **kwargs)\u001b[0m\n\u001b[0;32m    <a href='file:///c%3A/Users/Daniel/AppData/Local/Programs/Python/Python39/lib/site-packages/pandas/core/internals/blocks.py?line=395'>396</a>\u001b[0m \u001b[39m@final\u001b[39m\n\u001b[0;32m    <a href='file:///c%3A/Users/Daniel/AppData/Local/Programs/Python/Python39/lib/site-packages/pandas/core/internals/blocks.py?line=396'>397</a>\u001b[0m \u001b[39mdef\u001b[39;00m \u001b[39mapply\u001b[39m(\u001b[39mself\u001b[39m, func, \u001b[39m*\u001b[39m\u001b[39m*\u001b[39mkwargs) \u001b[39m-\u001b[39m\u001b[39m>\u001b[39m \u001b[39mlist\u001b[39m[Block]:\n\u001b[0;32m    <a href='file:///c%3A/Users/Daniel/AppData/Local/Programs/Python/Python39/lib/site-packages/pandas/core/internals/blocks.py?line=397'>398</a>\u001b[0m     \u001b[39m\"\"\"\u001b[39;00m\n\u001b[0;32m    <a href='file:///c%3A/Users/Daniel/AppData/Local/Programs/Python/Python39/lib/site-packages/pandas/core/internals/blocks.py?line=398'>399</a>\u001b[0m \u001b[39m    apply the function to my values; return a block if we are not\u001b[39;00m\n\u001b[0;32m    <a href='file:///c%3A/Users/Daniel/AppData/Local/Programs/Python/Python39/lib/site-packages/pandas/core/internals/blocks.py?line=399'>400</a>\u001b[0m \u001b[39m    one\u001b[39;00m\n\u001b[0;32m    <a href='file:///c%3A/Users/Daniel/AppData/Local/Programs/Python/Python39/lib/site-packages/pandas/core/internals/blocks.py?line=400'>401</a>\u001b[0m \u001b[39m    \"\"\"\u001b[39;00m\n\u001b[1;32m--> <a href='file:///c%3A/Users/Daniel/AppData/Local/Programs/Python/Python39/lib/site-packages/pandas/core/internals/blocks.py?line=401'>402</a>\u001b[0m     result \u001b[39m=\u001b[39m func(\u001b[39mself\u001b[39m\u001b[39m.\u001b[39mvalues, \u001b[39m*\u001b[39m\u001b[39m*\u001b[39mkwargs)\n\u001b[0;32m    <a href='file:///c%3A/Users/Daniel/AppData/Local/Programs/Python/Python39/lib/site-packages/pandas/core/internals/blocks.py?line=403'>404</a>\u001b[0m     \u001b[39mreturn\u001b[39;00m \u001b[39mself\u001b[39m\u001b[39m.\u001b[39m_split_op_result(result)\n",
      "\u001b[1;31mTypeError\u001b[0m: bad operand type for unary ~: 'float'"
     ]
    }
   ],
   "source": [
    "df2[~df2[\"到货日期\"].str.contains('无')]"
   ]
  },
  {
   "cell_type": "code",
   "execution_count": 16,
   "metadata": {},
   "outputs": [
    {
     "data": {
      "text/html": [
       "<div>\n",
       "<style scoped>\n",
       "    .dataframe tbody tr th:only-of-type {\n",
       "        vertical-align: middle;\n",
       "    }\n",
       "\n",
       "    .dataframe tbody tr th {\n",
       "        vertical-align: top;\n",
       "    }\n",
       "\n",
       "    .dataframe thead th {\n",
       "        text-align: right;\n",
       "    }\n",
       "</style>\n",
       "<table border=\"1\" class=\"dataframe\">\n",
       "  <thead>\n",
       "    <tr style=\"text-align: right;\">\n",
       "      <th></th>\n",
       "      <th>团长</th>\n",
       "      <th>团品</th>\n",
       "      <th>团购日期</th>\n",
       "      <th>到货日期</th>\n",
       "      <th>数量</th>\n",
       "      <th>是否需要分装</th>\n",
       "      <th>是否具备48小时核酸报告</th>\n",
       "      <th>是否具有食品合格证等</th>\n",
       "      <th>NA</th>\n",
       "    </tr>\n",
       "  </thead>\n",
       "  <tbody>\n",
       "    <tr>\n",
       "      <th>0</th>\n",
       "      <td>7-301</td>\n",
       "      <td>21cake</td>\n",
       "      <td>44666</td>\n",
       "      <td>44670</td>\n",
       "      <td>45</td>\n",
       "      <td>N</td>\n",
       "      <td>Y</td>\n",
       "      <td>Y</td>\n",
       "      <td>NA是标识不能删</td>\n",
       "    </tr>\n",
       "    <tr>\n",
       "      <th>1</th>\n",
       "      <td>10-601</td>\n",
       "      <td>百货</td>\n",
       "      <td>44665</td>\n",
       "      <td>44667</td>\n",
       "      <td>18</td>\n",
       "      <td>N</td>\n",
       "      <td>Y</td>\n",
       "      <td>Y</td>\n",
       "      <td>`</td>\n",
       "    </tr>\n",
       "    <tr>\n",
       "      <th>2</th>\n",
       "      <td>8-401</td>\n",
       "      <td>汉康豆制品</td>\n",
       "      <td>44662</td>\n",
       "      <td>44670</td>\n",
       "      <td>49</td>\n",
       "      <td>N</td>\n",
       "      <td>\\nY</td>\n",
       "      <td>Y</td>\n",
       "      <td>`</td>\n",
       "    </tr>\n",
       "  </tbody>\n",
       "</table>\n",
       "</div>"
      ],
      "text/plain": [
       "       团长      团品   团购日期   到货日期  数量 是否需要分装 是否具备48小时核酸报告 是否具有食品合格证等        NA\n",
       "0   7-301  21cake  44666  44670  45      N            Y          Y  NA是标识不能删\n",
       "1  10-601      百货  44665  44667  18      N            Y          Y         `\n",
       "2   8-401   汉康豆制品  44662  44670  49      N          \\nY          Y         `"
      ]
     },
     "execution_count": 16,
     "metadata": {},
     "output_type": "execute_result"
    }
   ],
   "source": [
    "df2.loc[(df2['团长'] !='`') & (df2['团长'] !='')]"
   ]
  },
  {
   "cell_type": "code",
   "execution_count": 7,
   "metadata": {},
   "outputs": [
    {
     "data": {
      "text/plain": [
       "0     44666\n",
       "1     44665\n",
       "2     44662\n",
       "3         `\n",
       "4         `\n",
       "5         `\n",
       "6         `\n",
       "7         `\n",
       "8         `\n",
       "9         `\n",
       "10        `\n",
       "11        `\n",
       "12        `\n",
       "13        `\n",
       "14        `\n",
       "15        `\n",
       "16        `\n",
       "17        `\n",
       "18        `\n",
       "19        `\n",
       "20        `\n",
       "21        `\n",
       "22        `\n",
       "23        `\n",
       "24        `\n",
       "25        `\n",
       "26        `\n",
       "27        `\n",
       "28        `\n",
       "29        `\n",
       "30        `\n",
       "31        `\n",
       "32        `\n",
       "33        `\n",
       "34        `\n",
       "35        `\n",
       "36        `\n",
       "37        `\n",
       "38        `\n",
       "Name: 团购日期, dtype: object"
      ]
     },
     "execution_count": 7,
     "metadata": {},
     "output_type": "execute_result"
    }
   ],
   "source": [
    "df2['团购日期']"
   ]
  },
  {
   "cell_type": "code",
   "execution_count": null,
   "metadata": {},
   "outputs": [],
   "source": []
  }
 ],
 "metadata": {
  "interpreter": {
   "hash": "67ff2b08a60b3c8d3383ece141b44d84ac527aa0fb2b4d51a958291ceaf46288"
  },
  "kernelspec": {
   "display_name": "Python 3.9.5 64-bit",
   "language": "python",
   "name": "python3"
  },
  "language_info": {
   "codemirror_mode": {
    "name": "ipython",
    "version": 3
   },
   "file_extension": ".py",
   "mimetype": "text/x-python",
   "name": "python",
   "nbconvert_exporter": "python",
   "pygments_lexer": "ipython3",
   "version": "3.9.5"
  },
  "orig_nbformat": 4
 },
 "nbformat": 4,
 "nbformat_minor": 2
}
